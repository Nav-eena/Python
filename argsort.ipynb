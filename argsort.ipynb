{
  "nbformat": 4,
  "nbformat_minor": 0,
  "metadata": {
    "colab": {
      "name": "argsort.ipynb",
      "provenance": []
    },
    "kernelspec": {
      "name": "python3",
      "display_name": "Python 3"
    }
  },
  "cells": [
    {
      "cell_type": "code",
      "metadata": {
        "id": "qyeCKnTX1Uiq"
      },
      "source": [
        ""
      ],
      "execution_count": null,
      "outputs": []
    },
    {
      "cell_type": "code",
      "metadata": {
        "colab": {
          "base_uri": "https://localhost:8080/"
        },
        "id": "g1V_lVfv1HFW",
        "outputId": "1c2d2378-3b73-41fb-d9fd-9d3964d5a446"
      },
      "source": [
        "import numpy as np\r\n",
        "arr=np.random.rand(10)\r\n",
        "print(arr)\r\n",
        "indices=argsort(arr)\r\n",
        "indices"
      ],
      "execution_count": 9,
      "outputs": [
        {
          "output_type": "stream",
          "text": [
            "[0.44524806 0.55096969 0.60850372 0.03683262 0.11655617 0.57886042\n",
            " 0.30330926 0.86853503 0.44237059 0.17610466]\n"
          ],
          "name": "stdout"
        },
        {
          "output_type": "execute_result",
          "data": {
            "text/plain": [
              "array([3, 4, 9, 6, 8, 0, 1, 5, 2, 7])"
            ]
          },
          "metadata": {
            "tags": []
          },
          "execution_count": 9
        }
      ]
    }
  ]
}